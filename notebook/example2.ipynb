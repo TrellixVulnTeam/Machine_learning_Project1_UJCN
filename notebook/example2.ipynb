{
 "cells": [
  {
   "cell_type": "code",
   "execution_count": 1,
   "metadata": {},
   "outputs": [],
   "source": [
    "from sklearn.model_selection import StratifiedShuffleSplit"
   ]
  },
  {
   "cell_type": "code",
   "execution_count": 2,
   "metadata": {},
   "outputs": [],
   "source": [
    "import pandas as pd"
   ]
  },
  {
   "cell_type": "code",
   "execution_count": 5,
   "metadata": {},
   "outputs": [
    {
     "data": {
      "text/plain": [
       "'c:\\\\Projects\\\\ML_PROJECT\\\\Machine_learning_Project1\\\\notebook'"
      ]
     },
     "execution_count": 5,
     "metadata": {},
     "output_type": "execute_result"
    }
   ],
   "source": [
    "import os\n",
    "os.getcwd()"
   ]
  },
  {
   "cell_type": "code",
   "execution_count": 6,
   "metadata": {},
   "outputs": [],
   "source": [
    "os.chdir('c:\\\\Projects\\\\ML_PROJECT\\\\Machine_learning_Project1')"
   ]
  },
  {
   "cell_type": "code",
   "execution_count": 9,
   "metadata": {},
   "outputs": [],
   "source": [
    "csv_file_path =r\"C:\\Projects\\ML_PROJECT\\Machine_learning_Project1\\housing\\artifact\\data_ingestion\\2022-07-07_23-11-01\\raw_data\\housing.csv\"\n",
    "housing_data = pd.read_csv(csv_file_path)"
   ]
  },
  {
   "cell_type": "code",
   "execution_count": 22,
   "metadata": {},
   "outputs": [],
   "source": [
    "columns =list(housing_data.columns)"
   ]
  },
  {
   "cell_type": "code",
   "execution_count": 17,
   "metadata": {},
   "outputs": [
    {
     "data": {
      "text/plain": [
       "array([dtype('float64'), dtype('float64'), dtype('float64'),\n",
       "       dtype('float64'), dtype('float64'), dtype('float64'),\n",
       "       dtype('float64'), dtype('float64'), dtype('float64'), dtype('O')],\n",
       "      dtype=object)"
      ]
     },
     "execution_count": 17,
     "metadata": {},
     "output_type": "execute_result"
    }
   ],
   "source": [
    "housing_data.dtypes.values"
   ]
  },
  {
   "cell_type": "code",
   "execution_count": 30,
   "metadata": {},
   "outputs": [],
   "source": [
    "data_type =list(map(lambda x:str(x).replace(\"dtype('\",\"\").replace(\"')\",\"\"),housing_data.dtypes.values))"
   ]
  },
  {
   "cell_type": "code",
   "execution_count": 31,
   "metadata": {},
   "outputs": [],
   "source": [
    "schema_file  = dict(zip(columns, data_type))"
   ]
  },
  {
   "cell_type": "code",
   "execution_count": 33,
   "metadata": {},
   "outputs": [
    {
     "data": {
      "text/plain": [
       "{'longitude': 'float64',\n",
       " 'latitude': 'float64',\n",
       " 'housing_median_age': 'float64',\n",
       " 'total_rooms': 'float64',\n",
       " 'total_bedrooms': 'float64',\n",
       " 'population': 'float64',\n",
       " 'households': 'float64',\n",
       " 'median_income': 'float64',\n",
       " 'median_house_value': 'float64',\n",
       " 'ocean_proximity': 'object'}"
      ]
     },
     "execution_count": 33,
     "metadata": {},
     "output_type": "execute_result"
    }
   ],
   "source": [
    "schema_file"
   ]
  },
  {
   "cell_type": "code",
   "execution_count": 34,
   "metadata": {},
   "outputs": [
    {
     "ename": "ValueError",
     "evalue": "Buffer has wrong number of dimensions (expected 1, got 0)",
     "output_type": "error",
     "traceback": [
      "\u001b[1;31m---------------------------------------------------------------------------\u001b[0m",
      "\u001b[1;31mValueError\u001b[0m                                Traceback (most recent call last)",
      "\u001b[1;32mc:\\Projects\\ML_PROJECT\\Machine_learning_Project1\\notebook\\example2.ipynb Cell 11'\u001b[0m in \u001b[0;36m<cell line: 1>\u001b[1;34m()\u001b[0m\n\u001b[1;32m----> <a href='vscode-notebook-cell:/c%3A/Projects/ML_PROJECT/Machine_learning_Project1/notebook/example2.ipynb#ch0000010?line=0'>1</a>\u001b[0m pd\u001b[39m.\u001b[39;49mto_numeric(schema_file)\n",
      "File \u001b[1;32mc:\\Projects\\ML_PROJECT\\Machine_learning_Project1\\venv\\lib\\site-packages\\pandas-1.4.3-py3.8-win-amd64.egg\\pandas\\core\\tools\\numeric.py:184\u001b[0m, in \u001b[0;36mto_numeric\u001b[1;34m(arg, errors, downcast)\u001b[0m\n\u001b[0;32m    182\u001b[0m coerce_numeric \u001b[39m=\u001b[39m errors \u001b[39mnot\u001b[39;00m \u001b[39min\u001b[39;00m (\u001b[39m\"\u001b[39m\u001b[39mignore\u001b[39m\u001b[39m\"\u001b[39m, \u001b[39m\"\u001b[39m\u001b[39mraise\u001b[39m\u001b[39m\"\u001b[39m)\n\u001b[0;32m    183\u001b[0m \u001b[39mtry\u001b[39;00m:\n\u001b[1;32m--> 184\u001b[0m     values, _ \u001b[39m=\u001b[39m lib\u001b[39m.\u001b[39;49mmaybe_convert_numeric(\n\u001b[0;32m    185\u001b[0m         values, \u001b[39mset\u001b[39;49m(), coerce_numeric\u001b[39m=\u001b[39;49mcoerce_numeric\n\u001b[0;32m    186\u001b[0m     )\n\u001b[0;32m    187\u001b[0m \u001b[39mexcept\u001b[39;00m (\u001b[39mValueError\u001b[39;00m, \u001b[39mTypeError\u001b[39;00m):\n\u001b[0;32m    188\u001b[0m     \u001b[39mif\u001b[39;00m errors \u001b[39m==\u001b[39m \u001b[39m\"\u001b[39m\u001b[39mraise\u001b[39m\u001b[39m\"\u001b[39m:\n",
      "File \u001b[1;32mc:\\Projects\\ML_PROJECT\\Machine_learning_Project1\\venv\\lib\\site-packages\\pandas-1.4.3-py3.8-win-amd64.egg\\pandas\\_libs\\lib.pyx:2170\u001b[0m, in \u001b[0;36mpandas._libs.lib.maybe_convert_numeric\u001b[1;34m()\u001b[0m\n",
      "\u001b[1;31mValueError\u001b[0m: Buffer has wrong number of dimensions (expected 1, got 0)"
     ]
    }
   ],
   "source": []
  },
  {
   "cell_type": "code",
   "execution_count": null,
   "metadata": {},
   "outputs": [],
   "source": [
    " "
   ]
  },
  {
   "cell_type": "code",
   "execution_count": 1,
   "metadata": {},
   "outputs": [],
   "source": [
    "import os\n"
   ]
  },
  {
   "cell_type": "code",
   "execution_count": 2,
   "metadata": {},
   "outputs": [],
   "source": [
    "from housing.entity.artifact_entity import ModelTrainerArtifact"
   ]
  },
  {
   "cell_type": "code",
   "execution_count": 7,
   "metadata": {},
   "outputs": [
    {
     "name": "stdout",
     "output_type": "stream",
     "text": [
      "<_collections._tuplegetter object at 0x0000027C38456D60>\n"
     ]
    }
   ],
   "source": [
    "print(ModelTrainerArtifact.trained_model_file_path)"
   ]
  },
  {
   "cell_type": "code",
   "execution_count": 1,
   "metadata": {},
   "outputs": [],
   "source": [
    "from collections import namedtuple"
   ]
  },
  {
   "cell_type": "code",
   "execution_count": 2,
   "metadata": {},
   "outputs": [],
   "source": [
    "x = namedtuple('x', ['a','b','c'])"
   ]
  },
  {
   "cell_type": "code",
   "execution_count": 3,
   "metadata": {},
   "outputs": [],
   "source": [
    "new = x(a = 4,b=6,c= 5)"
   ]
  },
  {
   "cell_type": "code",
   "execution_count": 4,
   "metadata": {},
   "outputs": [],
   "source": [
    "new_dict = new._asdict()"
   ]
  },
  {
   "cell_type": "code",
   "execution_count": 5,
   "metadata": {},
   "outputs": [
    {
     "data": {
      "text/plain": [
       "{'a': 4, 'b': 6, 'c': 5}"
      ]
     },
     "execution_count": 5,
     "metadata": {},
     "output_type": "execute_result"
    }
   ],
   "source": [
    "new_dict"
   ]
  },
  {
   "cell_type": "code",
   "execution_count": 6,
   "metadata": {},
   "outputs": [
    {
     "data": {
      "text/plain": [
       "dict"
      ]
     },
     "execution_count": 6,
     "metadata": {},
     "output_type": "execute_result"
    }
   ],
   "source": [
    "type(new_dict)"
   ]
  },
  {
   "cell_type": "code",
   "execution_count": 11,
   "metadata": {},
   "outputs": [],
   "source": [
    "new_dict:dict = {key:[value] for key,value in new_dict.items()}"
   ]
  },
  {
   "cell_type": "code",
   "execution_count": 13,
   "metadata": {},
   "outputs": [],
   "source": [
    "new_dict.update({'d':[8],\n",
    "            'e':[9]})"
   ]
  },
  {
   "cell_type": "code",
   "execution_count": 14,
   "metadata": {},
   "outputs": [
    {
     "data": {
      "text/plain": [
       "{'a': [4], 'b': [6], 'c': [5], 'd': [8], 'e': [9]}"
      ]
     },
     "execution_count": 14,
     "metadata": {},
     "output_type": "execute_result"
    }
   ],
   "source": [
    "new_dict"
   ]
  },
  {
   "cell_type": "code",
   "execution_count": 1,
   "metadata": {},
   "outputs": [],
   "source": [
    "import os"
   ]
  },
  {
   "cell_type": "code",
   "execution_count": 9,
   "metadata": {},
   "outputs": [],
   "source": [
    "parent = os.path.join(os.getcwd(),os.pardir)"
   ]
  },
  {
   "cell_type": "code",
   "execution_count": 2,
   "metadata": {},
   "outputs": [],
   "source": []
  },
  {
   "cell_type": "code",
   "execution_count": 10,
   "metadata": {},
   "outputs": [
    {
     "name": "stdout",
     "output_type": "stream",
     "text": [
      "\n",
      "Parent Directory: c:\\Projects\\ML_PROJECT\\Machine_learning_Project1\n"
     ]
    }
   ],
   "source": [
    "print(\"\\nParent Directory:\", os.path.abspath(parent))"
   ]
  },
  {
   "cell_type": "code",
   "execution_count": 2,
   "metadata": {},
   "outputs": [
    {
     "data": {
      "text/plain": [
       "'c:\\\\Projects\\\\ML_PROJECT\\\\Machine_learning_Project1\\\\notebook'"
      ]
     },
     "execution_count": 2,
     "metadata": {},
     "output_type": "execute_result"
    }
   ],
   "source": [
    "os.getcwd()\n"
   ]
  },
  {
   "cell_type": "code",
   "execution_count": 3,
   "metadata": {},
   "outputs": [],
   "source": [
    "os.chdir('c:\\\\Projects\\\\ML_PROJECT\\\\Machine_learning_Project1')"
   ]
  },
  {
   "cell_type": "code",
   "execution_count": 4,
   "metadata": {},
   "outputs": [
    {
     "data": {
      "text/plain": [
       "'c:\\\\Projects\\\\ML_PROJECT\\\\Machine_learning_Project1'"
      ]
     },
     "execution_count": 4,
     "metadata": {},
     "output_type": "execute_result"
    }
   ],
   "source": [
    "os.getcwd()"
   ]
  },
  {
   "cell_type": "code",
   "execution_count": 5,
   "metadata": {},
   "outputs": [],
   "source": [
    "config_file_path = os.path.join(os.getcwd(),\"config\",\"config.yaml\")"
   ]
  },
  {
   "cell_type": "code",
   "execution_count": 6,
   "metadata": {},
   "outputs": [],
   "source": [
    "from housing.pipeline.pipeline import Pipeline"
   ]
  },
  {
   "cell_type": "code",
   "execution_count": 7,
   "metadata": {},
   "outputs": [],
   "source": [
    "from housing.config.configuration import Configuration"
   ]
  },
  {
   "cell_type": "code",
   "execution_count": 8,
   "metadata": {},
   "outputs": [],
   "source": [
    "config = Configuration(config_file_path= config_file_path)"
   ]
  },
  {
   "cell_type": "code",
   "execution_count": 9,
   "metadata": {},
   "outputs": [
    {
     "data": {
      "text/plain": [
       "'c:\\\\Projects\\\\ML_PROJECT\\\\Machine_learning_Project1\\\\config\\\\config.yaml'"
      ]
     },
     "execution_count": 9,
     "metadata": {},
     "output_type": "execute_result"
    }
   ],
   "source": [
    "config_file_path"
   ]
  },
  {
   "cell_type": "code",
   "execution_count": 10,
   "metadata": {},
   "outputs": [
    {
     "data": {
      "text/plain": [
       "TrainingPipelineConfig(artifact_dir='c:\\\\Projects\\\\ML_PROJECT\\\\Machine_learning_Project1\\\\housing\\\\artifact')"
      ]
     },
     "execution_count": 10,
     "metadata": {},
     "output_type": "execute_result"
    }
   ],
   "source": [
    "config.get_training_pipeline_config()"
   ]
  },
  {
   "cell_type": "code",
   "execution_count": 11,
   "metadata": {},
   "outputs": [],
   "source": [
    "pipeline = Pipeline(config = config)"
   ]
  },
  {
   "cell_type": "code",
   "execution_count": 12,
   "metadata": {},
   "outputs": [
    {
     "data": {
      "text/plain": [
       "'c:\\\\Projects\\\\ML_PROJECT\\\\Machine_learning_Project1\\\\housing\\\\artifact\\\\experiment\\\\experiment.csv'"
      ]
     },
     "execution_count": 12,
     "metadata": {},
     "output_type": "execute_result"
    }
   ],
   "source": [
    "pipeline.experiment_file_path"
   ]
  },
  {
   "cell_type": "code",
   "execution_count": 13,
   "metadata": {},
   "outputs": [
    {
     "data": {
      "text/plain": [
       "Experiment(experiment_id=None, initialization_timestamp=None, artifact_time_stamp=None, running_status=None, start_time=None, stop_time=None, execution_time=None, message=None, experiment_file_path=None, accuracy=None, is_model_accepted=None)"
      ]
     },
     "execution_count": 13,
     "metadata": {},
     "output_type": "execute_result"
    }
   ],
   "source": [
    "pipeline.experiment\n"
   ]
  },
  {
   "cell_type": "code",
   "execution_count": 14,
   "metadata": {},
   "outputs": [
    {
     "data": {
      "text/plain": [
       "Experiment(experiment_id=None, initialization_timestamp=None, artifact_time_stamp=None, running_status=None, start_time=None, stop_time=None, execution_time=None, message=None, experiment_file_path=None, accuracy=None, is_model_accepted=None)"
      ]
     },
     "execution_count": 14,
     "metadata": {},
     "output_type": "execute_result"
    }
   ],
   "source": [
    "Pipeline.experiment"
   ]
  },
  {
   "cell_type": "code",
   "execution_count": 15,
   "metadata": {},
   "outputs": [],
   "source": [
    "pipeline1 = Pipeline(config=config)"
   ]
  },
  {
   "cell_type": "code",
   "execution_count": 16,
   "metadata": {},
   "outputs": [
    {
     "data": {
      "text/plain": [
       "Experiment(experiment_id=None, initialization_timestamp=None, artifact_time_stamp=None, running_status=None, start_time=None, stop_time=None, execution_time=None, message=None, experiment_file_path=None, accuracy=None, is_model_accepted=None)"
      ]
     },
     "execution_count": 16,
     "metadata": {},
     "output_type": "execute_result"
    }
   ],
   "source": [
    "pipeline1.experiment"
   ]
  },
  {
   "cell_type": "code",
   "execution_count": 17,
   "metadata": {},
   "outputs": [],
   "source": [
    "pipeline1.start()#start is a function of threading"
   ]
  },
  {
   "cell_type": "code",
   "execution_count": 18,
   "metadata": {},
   "outputs": [],
   "source": [
    "pipeline.start()"
   ]
  },
  {
   "cell_type": "code",
   "execution_count": 19,
   "metadata": {},
   "outputs": [
    {
     "data": {
      "text/plain": [
       "Experiment(experiment_id='94e815ae-1742-4fc5-9949-c340177c7626', initiliation_timestamp='2022-08-07_21-08-08', artifact_timestamp='2022-08-07_21-08-08', running_status=True, start_time=datetime.datetime(2022, 8, 7, 21, 10, 0, 498621), stop_time=None, execution_time=None, messages='Pipeline has been started', experiment_file_path='c:\\\\Projects\\\\ML_PROJECT\\\\Machine_learning_Project1\\\\housing\\\\artifact\\\\experiment\\\\experiment.csv', accuracy=None, is_model_accepted=None)"
      ]
     },
     "execution_count": 19,
     "metadata": {},
     "output_type": "execute_result"
    }
   ],
   "source": [
    "pipeline.experiment"
   ]
  },
  {
   "cell_type": "code",
   "execution_count": 19,
   "metadata": {},
   "outputs": [
    {
     "data": {
      "text/plain": [
       "'c:\\\\Projects\\\\ML_PROJECT\\\\Machine_learning_Project1\\\\housing\\\\artifact\\\\experiment\\\\experiment.csv'"
      ]
     },
     "execution_count": 19,
     "metadata": {},
     "output_type": "execute_result"
    }
   ],
   "source": [
    "pipeline.experiment.experiment_file_path"
   ]
  },
  {
   "cell_type": "code",
   "execution_count": 20,
   "metadata": {},
   "outputs": [
    {
     "name": "stdout",
     "output_type": "stream",
     "text": [
      "[CV] END ...............min_samples_leaf=4, n_estimators=100; total time=   7.1s\n"
     ]
    },
    {
     "data": {
      "text/plain": [
       "Experiment(experiment_id='459434b3-9867-4f0b-a7a0-30a57af2561e', initialization_timestamp='2022-08-09_11-30-53', artifact_time_stamp='2022-08-09_11-30-53', running_status=True, start_time=datetime.datetime(2022, 8, 9, 11, 31, 41, 205394), stop_time=None, execution_time=None, message='Pipeline has been started.', experiment_file_path='c:\\\\Projects\\\\ML_PROJECT\\\\Machine_learning_Project1\\\\housing\\\\artifact\\\\experiment\\\\experiment.csv', accuracy=None, is_model_accepted=None)"
      ]
     },
     "execution_count": 20,
     "metadata": {},
     "output_type": "execute_result"
    }
   ],
   "source": [
    "pipeline.run_pipeline()"
   ]
  },
  {
   "cell_type": "code",
   "execution_count": 21,
   "metadata": {},
   "outputs": [
    {
     "data": {
      "text/html": [
       "<div>\n",
       "<style scoped>\n",
       "    .dataframe tbody tr th:only-of-type {\n",
       "        vertical-align: middle;\n",
       "    }\n",
       "\n",
       "    .dataframe tbody tr th {\n",
       "        vertical-align: top;\n",
       "    }\n",
       "\n",
       "    .dataframe thead th {\n",
       "        text-align: right;\n",
       "    }\n",
       "</style>\n",
       "<table border=\"1\" class=\"dataframe\">\n",
       "  <thead>\n",
       "    <tr style=\"text-align: right;\">\n",
       "      <th></th>\n",
       "      <th>experiment_id</th>\n",
       "      <th>artifact_time_stamp</th>\n",
       "      <th>running_status</th>\n",
       "      <th>start_time</th>\n",
       "      <th>stop_time</th>\n",
       "      <th>execution_time</th>\n",
       "      <th>message</th>\n",
       "      <th>accuracy</th>\n",
       "      <th>is_model_accepted</th>\n",
       "      <th>created_time_stamp</th>\n",
       "    </tr>\n",
       "  </thead>\n",
       "  <tbody>\n",
       "    <tr>\n",
       "      <th>0</th>\n",
       "      <td>ddb074e8-90a3-43de-9b49-67dd4a64780c</td>\n",
       "      <td>2022-08-08_12-49-59</td>\n",
       "      <td>True</td>\n",
       "      <td>2022-08-08 12:50:02.287821</td>\n",
       "      <td>NaN</td>\n",
       "      <td>NaN</td>\n",
       "      <td>Pipeline has been started.</td>\n",
       "      <td>NaN</td>\n",
       "      <td>NaN</td>\n",
       "      <td>2022-08-08 12:50:02.288861</td>\n",
       "    </tr>\n",
       "    <tr>\n",
       "      <th>1</th>\n",
       "      <td>57c7215f-e3e8-4dd8-a481-c28cc491f200</td>\n",
       "      <td>2022-08-08_12-55-13</td>\n",
       "      <td>True</td>\n",
       "      <td>2022-08-08 12:55:22.785184</td>\n",
       "      <td>NaN</td>\n",
       "      <td>NaN</td>\n",
       "      <td>Pipeline has been started.</td>\n",
       "      <td>NaN</td>\n",
       "      <td>NaN</td>\n",
       "      <td>2022-08-08 12:55:22.785184</td>\n",
       "    </tr>\n",
       "    <tr>\n",
       "      <th>2</th>\n",
       "      <td>5ea1afcb-aa6d-4284-924c-213f831f71eb</td>\n",
       "      <td>2022-08-08_12-58-55</td>\n",
       "      <td>True</td>\n",
       "      <td>2022-08-08 12:58:58.170810</td>\n",
       "      <td>NaN</td>\n",
       "      <td>NaN</td>\n",
       "      <td>Pipeline has been started.</td>\n",
       "      <td>NaN</td>\n",
       "      <td>NaN</td>\n",
       "      <td>2022-08-08 12:58:58.170810</td>\n",
       "    </tr>\n",
       "    <tr>\n",
       "      <th>3</th>\n",
       "      <td>789d2647-7128-4dce-a653-099f8713cbec</td>\n",
       "      <td>2022-08-08_23-55-58</td>\n",
       "      <td>True</td>\n",
       "      <td>2022-08-08 23:56:02.284695</td>\n",
       "      <td>NaN</td>\n",
       "      <td>NaN</td>\n",
       "      <td>Pipeline has been started.</td>\n",
       "      <td>NaN</td>\n",
       "      <td>NaN</td>\n",
       "      <td>2022-08-08 23:56:02.284695</td>\n",
       "    </tr>\n",
       "    <tr>\n",
       "      <th>4</th>\n",
       "      <td>2bb7bb8c-2771-47ae-8eb0-4a5a05c6b22f</td>\n",
       "      <td>2022-08-08_23-58-01</td>\n",
       "      <td>True</td>\n",
       "      <td>2022-08-08 23:58:02.271002</td>\n",
       "      <td>NaN</td>\n",
       "      <td>NaN</td>\n",
       "      <td>Pipeline has been started.</td>\n",
       "      <td>NaN</td>\n",
       "      <td>NaN</td>\n",
       "      <td>2022-08-08 23:58:02.271002</td>\n",
       "    </tr>\n",
       "    <tr>\n",
       "      <th>5</th>\n",
       "      <td>2bb7bb8c-2771-47ae-8eb0-4a5a05c6b22f</td>\n",
       "      <td>2022-08-08_23-58-01</td>\n",
       "      <td>False</td>\n",
       "      <td>2022-08-08 23:58:02.271002</td>\n",
       "      <td>2022-08-08 23:59:01.554983</td>\n",
       "      <td>0 days 00:00:59.283981</td>\n",
       "      <td>Pipeline has been completed.</td>\n",
       "      <td>0.652281</td>\n",
       "      <td>True</td>\n",
       "      <td>2022-08-08 23:59:01.554983</td>\n",
       "    </tr>\n",
       "    <tr>\n",
       "      <th>6</th>\n",
       "      <td>459434b3-9867-4f0b-a7a0-30a57af2561e</td>\n",
       "      <td>2022-08-09_11-30-53</td>\n",
       "      <td>True</td>\n",
       "      <td>2022-08-09 11:31:41.205394</td>\n",
       "      <td>NaN</td>\n",
       "      <td>NaN</td>\n",
       "      <td>Pipeline has been started.</td>\n",
       "      <td>NaN</td>\n",
       "      <td>NaN</td>\n",
       "      <td>2022-08-09 11:31:41.206394</td>\n",
       "    </tr>\n",
       "  </tbody>\n",
       "</table>\n",
       "</div>"
      ],
      "text/plain": [
       "                          experiment_id  artifact_time_stamp  running_status  \\\n",
       "0  ddb074e8-90a3-43de-9b49-67dd4a64780c  2022-08-08_12-49-59            True   \n",
       "1  57c7215f-e3e8-4dd8-a481-c28cc491f200  2022-08-08_12-55-13            True   \n",
       "2  5ea1afcb-aa6d-4284-924c-213f831f71eb  2022-08-08_12-58-55            True   \n",
       "3  789d2647-7128-4dce-a653-099f8713cbec  2022-08-08_23-55-58            True   \n",
       "4  2bb7bb8c-2771-47ae-8eb0-4a5a05c6b22f  2022-08-08_23-58-01            True   \n",
       "5  2bb7bb8c-2771-47ae-8eb0-4a5a05c6b22f  2022-08-08_23-58-01           False   \n",
       "6  459434b3-9867-4f0b-a7a0-30a57af2561e  2022-08-09_11-30-53            True   \n",
       "\n",
       "                   start_time                   stop_time  \\\n",
       "0  2022-08-08 12:50:02.287821                         NaN   \n",
       "1  2022-08-08 12:55:22.785184                         NaN   \n",
       "2  2022-08-08 12:58:58.170810                         NaN   \n",
       "3  2022-08-08 23:56:02.284695                         NaN   \n",
       "4  2022-08-08 23:58:02.271002                         NaN   \n",
       "5  2022-08-08 23:58:02.271002  2022-08-08 23:59:01.554983   \n",
       "6  2022-08-09 11:31:41.205394                         NaN   \n",
       "\n",
       "           execution_time                       message  accuracy  \\\n",
       "0                     NaN    Pipeline has been started.       NaN   \n",
       "1                     NaN    Pipeline has been started.       NaN   \n",
       "2                     NaN    Pipeline has been started.       NaN   \n",
       "3                     NaN    Pipeline has been started.       NaN   \n",
       "4                     NaN    Pipeline has been started.       NaN   \n",
       "5  0 days 00:00:59.283981  Pipeline has been completed.  0.652281   \n",
       "6                     NaN    Pipeline has been started.       NaN   \n",
       "\n",
       "  is_model_accepted          created_time_stamp  \n",
       "0               NaN  2022-08-08 12:50:02.288861  \n",
       "1               NaN  2022-08-08 12:55:22.785184  \n",
       "2               NaN  2022-08-08 12:58:58.170810  \n",
       "3               NaN  2022-08-08 23:56:02.284695  \n",
       "4               NaN  2022-08-08 23:58:02.271002  \n",
       "5              True  2022-08-08 23:59:01.554983  \n",
       "6               NaN  2022-08-09 11:31:41.206394  "
      ]
     },
     "execution_count": 21,
     "metadata": {},
     "output_type": "execute_result"
    }
   ],
   "source": [
    "pipeline.get_experiments_status(limit=10)"
   ]
  },
  {
   "cell_type": "code",
   "execution_count": 24,
   "metadata": {},
   "outputs": [],
   "source": [
    "from housing.pipeline.pipeline import Pipeline"
   ]
  },
  {
   "cell_type": "code",
   "execution_count": 22,
   "metadata": {},
   "outputs": [
    {
     "data": {
      "text/html": [
       "<div>\n",
       "<style scoped>\n",
       "    .dataframe tbody tr th:only-of-type {\n",
       "        vertical-align: middle;\n",
       "    }\n",
       "\n",
       "    .dataframe tbody tr th {\n",
       "        vertical-align: top;\n",
       "    }\n",
       "\n",
       "    .dataframe thead th {\n",
       "        text-align: right;\n",
       "    }\n",
       "</style>\n",
       "<table border=\"1\" class=\"dataframe\">\n",
       "  <thead>\n",
       "    <tr style=\"text-align: right;\">\n",
       "      <th></th>\n",
       "      <th>experiment_id</th>\n",
       "      <th>artifact_time_stamp</th>\n",
       "      <th>running_status</th>\n",
       "      <th>start_time</th>\n",
       "      <th>stop_time</th>\n",
       "      <th>execution_time</th>\n",
       "      <th>message</th>\n",
       "      <th>accuracy</th>\n",
       "      <th>is_model_accepted</th>\n",
       "      <th>created_time_stamp</th>\n",
       "    </tr>\n",
       "  </thead>\n",
       "  <tbody>\n",
       "    <tr>\n",
       "      <th>2</th>\n",
       "      <td>5ea1afcb-aa6d-4284-924c-213f831f71eb</td>\n",
       "      <td>2022-08-08_12-58-55</td>\n",
       "      <td>True</td>\n",
       "      <td>2022-08-08 12:58:58.170810</td>\n",
       "      <td>NaN</td>\n",
       "      <td>NaN</td>\n",
       "      <td>Pipeline has been started.</td>\n",
       "      <td>NaN</td>\n",
       "      <td>NaN</td>\n",
       "      <td>2022-08-08 12:58:58.170810</td>\n",
       "    </tr>\n",
       "    <tr>\n",
       "      <th>3</th>\n",
       "      <td>789d2647-7128-4dce-a653-099f8713cbec</td>\n",
       "      <td>2022-08-08_23-55-58</td>\n",
       "      <td>True</td>\n",
       "      <td>2022-08-08 23:56:02.284695</td>\n",
       "      <td>NaN</td>\n",
       "      <td>NaN</td>\n",
       "      <td>Pipeline has been started.</td>\n",
       "      <td>NaN</td>\n",
       "      <td>NaN</td>\n",
       "      <td>2022-08-08 23:56:02.284695</td>\n",
       "    </tr>\n",
       "    <tr>\n",
       "      <th>4</th>\n",
       "      <td>2bb7bb8c-2771-47ae-8eb0-4a5a05c6b22f</td>\n",
       "      <td>2022-08-08_23-58-01</td>\n",
       "      <td>True</td>\n",
       "      <td>2022-08-08 23:58:02.271002</td>\n",
       "      <td>NaN</td>\n",
       "      <td>NaN</td>\n",
       "      <td>Pipeline has been started.</td>\n",
       "      <td>NaN</td>\n",
       "      <td>NaN</td>\n",
       "      <td>2022-08-08 23:58:02.271002</td>\n",
       "    </tr>\n",
       "    <tr>\n",
       "      <th>5</th>\n",
       "      <td>2bb7bb8c-2771-47ae-8eb0-4a5a05c6b22f</td>\n",
       "      <td>2022-08-08_23-58-01</td>\n",
       "      <td>False</td>\n",
       "      <td>2022-08-08 23:58:02.271002</td>\n",
       "      <td>2022-08-08 23:59:01.554983</td>\n",
       "      <td>0 days 00:00:59.283981</td>\n",
       "      <td>Pipeline has been completed.</td>\n",
       "      <td>0.652281</td>\n",
       "      <td>True</td>\n",
       "      <td>2022-08-08 23:59:01.554983</td>\n",
       "    </tr>\n",
       "    <tr>\n",
       "      <th>6</th>\n",
       "      <td>459434b3-9867-4f0b-a7a0-30a57af2561e</td>\n",
       "      <td>2022-08-09_11-30-53</td>\n",
       "      <td>True</td>\n",
       "      <td>2022-08-09 11:31:41.205394</td>\n",
       "      <td>NaN</td>\n",
       "      <td>NaN</td>\n",
       "      <td>Pipeline has been started.</td>\n",
       "      <td>NaN</td>\n",
       "      <td>NaN</td>\n",
       "      <td>2022-08-09 11:31:41.206394</td>\n",
       "    </tr>\n",
       "  </tbody>\n",
       "</table>\n",
       "</div>"
      ],
      "text/plain": [
       "                          experiment_id  artifact_time_stamp  running_status  \\\n",
       "2  5ea1afcb-aa6d-4284-924c-213f831f71eb  2022-08-08_12-58-55            True   \n",
       "3  789d2647-7128-4dce-a653-099f8713cbec  2022-08-08_23-55-58            True   \n",
       "4  2bb7bb8c-2771-47ae-8eb0-4a5a05c6b22f  2022-08-08_23-58-01            True   \n",
       "5  2bb7bb8c-2771-47ae-8eb0-4a5a05c6b22f  2022-08-08_23-58-01           False   \n",
       "6  459434b3-9867-4f0b-a7a0-30a57af2561e  2022-08-09_11-30-53            True   \n",
       "\n",
       "                   start_time                   stop_time  \\\n",
       "2  2022-08-08 12:58:58.170810                         NaN   \n",
       "3  2022-08-08 23:56:02.284695                         NaN   \n",
       "4  2022-08-08 23:58:02.271002                         NaN   \n",
       "5  2022-08-08 23:58:02.271002  2022-08-08 23:59:01.554983   \n",
       "6  2022-08-09 11:31:41.205394                         NaN   \n",
       "\n",
       "           execution_time                       message  accuracy  \\\n",
       "2                     NaN    Pipeline has been started.       NaN   \n",
       "3                     NaN    Pipeline has been started.       NaN   \n",
       "4                     NaN    Pipeline has been started.       NaN   \n",
       "5  0 days 00:00:59.283981  Pipeline has been completed.  0.652281   \n",
       "6                     NaN    Pipeline has been started.       NaN   \n",
       "\n",
       "  is_model_accepted          created_time_stamp  \n",
       "2               NaN  2022-08-08 12:58:58.170810  \n",
       "3               NaN  2022-08-08 23:56:02.284695  \n",
       "4               NaN  2022-08-08 23:58:02.271002  \n",
       "5              True  2022-08-08 23:59:01.554983  \n",
       "6               NaN  2022-08-09 11:31:41.206394  "
      ]
     },
     "execution_count": 22,
     "metadata": {},
     "output_type": "execute_result"
    }
   ],
   "source": [
    "pipeline.get_experiments_status(limit = 5)"
   ]
  },
  {
   "cell_type": "code",
   "execution_count": 25,
   "metadata": {},
   "outputs": [
    {
     "ename": "TypeError",
     "evalue": "'Pipeline' object is not callable",
     "output_type": "error",
     "traceback": [
      "\u001b[1;31m---------------------------------------------------------------------------\u001b[0m",
      "\u001b[1;31mTypeError\u001b[0m                                 Traceback (most recent call last)",
      "\u001b[1;32mc:\\Projects\\ML_PROJECT\\Machine_learning_Project1\\notebook\\example2.ipynb Cell 51\u001b[0m in \u001b[0;36m<cell line: 1>\u001b[1;34m()\u001b[0m\n\u001b[1;32m----> <a href='vscode-notebook-cell:/c%3A/Projects/ML_PROJECT/Machine_learning_Project1/notebook/example2.ipynb#Y101sZmlsZQ%3D%3D?line=0'>1</a>\u001b[0m pipeline()\n",
      "\u001b[1;31mTypeError\u001b[0m: 'Pipeline' object is not callable"
     ]
    }
   ],
   "source": []
  },
  {
   "cell_type": "code",
   "execution_count": 2,
   "metadata": {},
   "outputs": [
    {
     "data": {
      "text/plain": [
       "'c:\\\\Projects\\\\ML_PROJECT\\\\Machine_learning_Project1\\\\notebook'"
      ]
     },
     "execution_count": 2,
     "metadata": {},
     "output_type": "execute_result"
    }
   ],
   "source": [
    "import os\n",
    "\n",
    "os.getcwd()"
   ]
  },
  {
   "cell_type": "code",
   "execution_count": 3,
   "metadata": {},
   "outputs": [],
   "source": [
    "os.chdir('c:\\\\Projects\\\\ML_PROJECT\\\\Machine_learning_Project1')"
   ]
  },
  {
   "cell_type": "code",
   "execution_count": 4,
   "metadata": {},
   "outputs": [],
   "source": [
    "dir = r\"C:\\Projects\\ML_PROJECT\\Machine_learning_Project1\\saved_models\""
   ]
  },
  {
   "cell_type": "code",
   "execution_count": 15,
   "metadata": {},
   "outputs": [],
   "source": [
    "ls = os.listdir(dir)"
   ]
  },
  {
   "cell_type": "code",
   "execution_count": 16,
   "metadata": {},
   "outputs": [],
   "source": [
    "s = max([int(i) for i in ls])"
   ]
  },
  {
   "cell_type": "code",
   "execution_count": 17,
   "metadata": {},
   "outputs": [
    {
     "data": {
      "text/plain": [
       "'20220809113231'"
      ]
     },
     "execution_count": 17,
     "metadata": {},
     "output_type": "execute_result"
    }
   ],
   "source": [
    "str(s)"
   ]
  },
  {
   "cell_type": "code",
   "execution_count": 14,
   "metadata": {},
   "outputs": [
    {
     "data": {
      "text/plain": [
       "'20220809113231'"
      ]
     },
     "execution_count": 14,
     "metadata": {},
     "output_type": "execute_result"
    }
   ],
   "source": [
    "f\"{s}\""
   ]
  },
  {
   "cell_type": "code",
   "execution_count": null,
   "metadata": {},
   "outputs": [],
   "source": []
  }
 ],
 "metadata": {
  "kernelspec": {
   "display_name": "Python 3.8.0 (conda)",
   "language": "python",
   "name": "python3"
  },
  "language_info": {
   "codemirror_mode": {
    "name": "ipython",
    "version": 3
   },
   "file_extension": ".py",
   "mimetype": "text/x-python",
   "name": "python",
   "nbconvert_exporter": "python",
   "pygments_lexer": "ipython3",
   "version": "3.8.0"
  },
  "orig_nbformat": 4,
  "vscode": {
   "interpreter": {
    "hash": "2601c6e14211b340d688fd4b7b29ee6ffe070c63d3098a6619643bcb5f0836d0"
   }
  }
 },
 "nbformat": 4,
 "nbformat_minor": 2
}
